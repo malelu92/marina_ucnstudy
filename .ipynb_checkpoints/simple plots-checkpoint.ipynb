{
 "cells": [
  {
   "cell_type": "code",
   "execution_count": 5,
   "metadata": {
    "collapsed": false,
    "deletable": true,
    "editable": true
   },
   "outputs": [
    {
     "data": {
      "image/png": "[encoded data removed]",
      "text/plain": [
       "<matplotlib.figure.Figure at 0x10dcc0a90>"
      ]
     },
     "metadata": {},
     "output_type": "display_data"
    }
   ],
   "source": [
    "import matplotlib.pyplot as plt\n",
    "import numpy as np\n",
    "\n",
    "vals = [3,2,5,0,1]\n",
    "plt.plot(vals)\n",
    "plt.show()"
   ]
  },
  {
   "cell_type": "code",
   "execution_count": 1,
   "metadata": {
    "collapsed": false,
    "deletable": true,
    "editable": true
   },
   "outputs": [
    {
     "name": "stdout",
     "output_type": "stream",
     "text": [
      "{'white icicle': 5, 'Snow Belle': 58, 'sicily giant': 3, 'April Cross': 67, 'Plum  Purple': 1, 'snow belle': 3, ' Plum Purple': 1, 'April cross': 1, 'Sicily  Giant': 1, ' Snow Belle': 2, 'Champion': 75, 'Cherry Belle': 53, ' Daikon': 1, 'Bunny Tail': 68, 'bunny tail': 4, 'Red King': 52, 'french breakfast': 7, 'plum purple': 1, 'White Icicle': 59, 'champion': 1, 'cherry belle': 2, 'Daikon': 58, 'Sicily Giant': 52, ' plum purple': 1, 'april cross': 4, ' Red King': 1, 'red king': 3, ' White Icicle': 1, ' Cherry Belle': 2, 'daikon': 4, 'Cherry  Belle': 1, ' Sicily Giant': 1, 'French Breakfast': 65, 'Plum Purple': 53}\n"
     ]
    }
   ],
   "source": [
    "counts = {}\n",
    "\n",
    "for line in open(\"radishsurvey.txt\"):\n",
    "    line = line.strip()\n",
    "    name, vote = line.split(\" - \")\n",
    "    if vote not in counts:\n",
    "        # First vote for this variety\n",
    "        counts[vote] = 1\n",
    "    else:\n",
    "        # Increment the vote count\n",
    "        counts[vote] = counts[vote] + 1\n",
    "print(counts)\n"
   ]
  },
  {
   "cell_type": "code",
   "execution_count": 6,
   "metadata": {
    "collapsed": false,
    "deletable": true,
    "editable": true
   },
   "outputs": [
    {
     "ename": "AttributeError",
     "evalue": "'module' object has no attribute 'xtics'",
     "output_type": "error",
     "traceback": [
      "\u001b[0;31m---------------------------------------------------------------------------\u001b[0m",
      "\u001b[0;31mAttributeError\u001b[0m                            Traceback (most recent call last)",
      "\u001b[0;32m<ipython-input-6-5d25f52089b0>\u001b[0m in \u001b[0;36m<module>\u001b[0;34m()\u001b[0m\n\u001b[1;32m      9\u001b[0m \u001b[0;34m\u001b[0m\u001b[0m\n\u001b[1;32m     10\u001b[0m \u001b[0mplt\u001b[0m\u001b[0;34m.\u001b[0m\u001b[0mbar\u001b[0m\u001b[0;34m(\u001b[0m\u001b[0mx\u001b[0m\u001b[0;34m,\u001b[0m \u001b[0mvotes\u001b[0m\u001b[0;34m)\u001b[0m\u001b[0;34m\u001b[0m\u001b[0m\n\u001b[0;32m---> 11\u001b[0;31m \u001b[0mplt\u001b[0m\u001b[0;34m.\u001b[0m\u001b[0mxtics\u001b[0m\u001b[0;34m(\u001b[0m\u001b[0mx\u001b[0m \u001b[0;34m+\u001b[0m \u001b[0;36m0.5\u001b[0m\u001b[0;34m,\u001b[0m \u001b[0mnames\u001b[0m\u001b[0;34m,\u001b[0m \u001b[0mrotation\u001b[0m\u001b[0;34m=\u001b[0m\u001b[0;36m90\u001b[0m\u001b[0;34m)\u001b[0m\u001b[0;34m\u001b[0m\u001b[0m\n\u001b[0m",
      "\u001b[0;31mAttributeError\u001b[0m: 'module' object has no attribute 'xtics'"
     ]
    }
   ],
   "source": [
    "names = []\n",
    "votes = []\n",
    "\n",
    "for radish in counts:\n",
    "    names.append(radish)\n",
    "    votes.append(counts[radish])\n",
    "    \n",
    "x = np.arange(len(counts))\n",
    "\n",
    "plt.bar(x, votes)\n",
    "#plt.xtics(x + 0.5, names, rotation=90)"
   ]
  },
  {
   "cell_type": "code",
   "execution_count": null,
   "metadata": {
    "collapsed": true
   },
   "outputs": [],
   "source": []
  }
 ],
 "metadata": {
  "kernelspec": {
   "display_name": "Python 2",
   "language": "python",
   "name": "python2"
  },
  "language_info": {
   "codemirror_mode": {
    "name": "ipython",
    "version": 2
   },
   "file_extension": ".py",
   "mimetype": "text/x-python",
   "name": "python",
   "nbconvert_exporter": "python",
   "pygments_lexer": "ipython2",
   "version": "2.7.10"
  }
 },
 "nbformat": 4,
 "nbformat_minor": 2
}
